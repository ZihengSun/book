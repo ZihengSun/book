{
 "cells": [
  {
   "cell_type": "code",
   "execution_count": 1,
   "id": "f1ff7350-dcac-4b52-893c-81d8ec28ff8f",
   "metadata": {},
   "outputs": [],
   "source": [
    "# import functions and packages\n",
    "from functions_book_chapter_SCA import *\n",
    "\n",
    "dir_planet_ext = './data/GIS/extent/CATE_20180528_181110_img_ext.shp'\n",
    "with fiona.open(dir_planet_ext, \"r\") as shapefile:\n",
    "    shapes = [feature[\"geometry\"] for feature in shapefile]\n",
    "    \n",
    "dir_aso = \"./data/ASO/ASO_3M_SD_USCATE_20180528_binary.tif\"\n",
    "with rasterio.open(dir_aso,'r') as src:\n",
    "    r_aso = rasterio.mask.mask(src, shapes, crop=True)\n",
    "    \n",
    "dir_pred = './data/SCA/20180528_181110_1025_3B_AnalyticMS_SR_clip_SCA.tif'\n",
    "with rasterio.open(dir_pred,'r') as src:\n",
    "    r_predict = rasterio.mask.mask(src, shapes, crop=True)\n",
    "\n",
    "dir_watermask = './data/mask/waterbody_TB_UTM11.tif'\n",
    "with rasterio.open(dir_watermask,'r') as src:\n",
    "    r_watermask = rasterio.mask.mask(src, shapes, crop=True)\n",
    "    \n",
    "dir_glaciermask = './data/mask/02_rgi60_WesternCanadaUS_hypso_TB.tif'\n",
    "with rasterio.open(dir_glaciermask,'r') as src:\n",
    "    r_glaciermask = rasterio.mask.mask(src, shapes, crop=True)"
   ]
  },
  {
   "cell_type": "code",
   "execution_count": 18,
   "id": "69d4c270-96be-4768-a21c-91e453b8cc0b",
   "metadata": {},
   "outputs": [
    {
     "data": {
      "image/png": "[encoded data removed]",
      "text/plain": [
       "<Figure size 432x288 with 1 Axes>"
      ]
     },
     "metadata": {
      "needs_background": "light"
     },
     "output_type": "display_data"
    }
   ],
   "source": [
    "# import functions and packages\n",
    "from functions_book_chapter_SCA import *\n",
    "\n",
    "dir_inshp = './data/GIS/extent/CATE_20180528_181110_img_ext.shp'\n",
    "\n",
    "dir_in_img = ['./data/ASO/ASO_3M_CHM_USCATB_20140827_clip_binary.tif',\n",
    "             './data/mask/waterbody_TB_UTM11.tif',\n",
    "             './data/mask/02_rgi60_WesternCanadaUS_hypso_TB.tif',\n",
    "             './data/ASO/ASO_3M_SD_USCATE_20180528.tif']\n",
    "\n",
    "dir_out_img = ['./data/ASO/ASO_3M_CHM_USCATB_20140827_binary_clip.tif',\n",
    "             './data/mask/waterbody_TB_UTM11_clip.tif',\n",
    "             './data/mask/02_rgi60_WesternCanadaUS_hypso_TB_clip.tif',\n",
    "             './data/ASO/ASO_3M_SD_USCATE_20180528_clip.tif']\n",
    "\n",
    "def clip_raster_shp_1D(dir_inshp, dir_in_img, dir_out_img):\n",
    "    with fiona.open(dir_inshp, \"r\") as shapefile:\n",
    "        shapes = [feature[\"geometry\"] for feature in shapefile]\n",
    "\n",
    "    with rasterio.open(dir_in_img,'r') as src:\n",
    "        out_img, out_transform = rasterio.mask.mask(src, shapes, crop=True)\n",
    "        out_meta = src.meta\n",
    "\n",
    "    # Save clipped imagery\n",
    "    out_meta.update({\"driver\": \"GTiff\",\n",
    "                     \"height\": out_img.shape[1],\n",
    "                     \"width\": out_img.shape[2],\n",
    "                     \"transform\": out_transform})\n",
    "\n",
    "    with rasterio.open(dir_out_img, \"w\", **out_meta) as dest:\n",
    "        dest.write(out_img)\n",
    "    return out_img\n",
    "\n",
    "\n",
    "    \n",
    "# out_img = clip_raster_shp_1D(dir_inshp,dir_in_img[3], dir_out_img[3])\n",
    "plt.imshow(out_img.squeeze())\n",
    "plt.show()"
   ]
  },
  {
   "cell_type": "code",
   "execution_count": 16,
   "id": "ccedcf47-a4a1-487c-b2dc-80ca11c07f81",
   "metadata": {},
   "outputs": [
    {
     "data": {
      "text/plain": [
       "'./data/ASO/ASO_3M_SD_USCATE_20180528.tif'"
      ]
     },
     "execution_count": 16,
     "metadata": {},
     "output_type": "execute_result"
    }
   ],
   "source": [
    "dir_in_img[(len(dir_in_img)-1)]"
   ]
  },
  {
   "cell_type": "code",
   "execution_count": null,
   "id": "c8d86ed2-3ba2-4cae-a366-f77559ec2da8",
   "metadata": {},
   "outputs": [],
   "source": [
    "plot"
   ]
  },
  {
   "cell_type": "code",
   "execution_count": 2,
   "id": "c1dca890-f769-4795-8342-e6a8530d338f",
   "metadata": {},
   "outputs": [
    {
     "data": {
      "text/plain": [
       "(array([[[-9999, -9999, -9999, ..., -9999, -9999, -9999],\n",
       "         [-9999, -9999, -9999, ..., -9999, -9999, -9999],\n",
       "         [-9999, -9999, -9999, ..., -9999, -9999, -9999],\n",
       "         ...,\n",
       "         [-9999, -9999, -9999, ..., -9999, -9999, -9999],\n",
       "         [-9999, -9999, -9999, ..., -9999, -9999, -9999],\n",
       "         [-9999, -9999, -9999, ..., -9999, -9999, -9999]]], dtype=int16),\n",
       " Affine(3.0, 0.0, 264777.0,\n",
       "        0.0, -3.0, 4224306.0))"
      ]
     },
     "execution_count": 2,
     "metadata": {},
     "output_type": "execute_result"
    }
   ],
   "source": [
    "# Read Shape file\n",
    "with fiona.open(\"input_data/shape_files/lidar_shape.shp\", \"r\") as shapefile:\n",
    "    shapes = [feature[\"geometry\"] for feature in shapefile]\n",
    "\n",
    "# read imagery file\n",
    "with rasterio.open(\"output_data/imagery_trans.tif\") as src:\n",
    "    out_image, out_transform = rasterio.mask.mask(src, shapes, crop=True)\n",
    "    out_meta = src.meta\n",
    "\n",
    "# Save clipped imagery\n",
    "out_meta.update({\"driver\": \"GTiff\",\n",
    "                 \"height\": out_image.shape[1],\n",
    "                 \"width\": out_image.shape[2],\n",
    "                 \"transform\": out_transform})\n",
    "\n",
    "with rasterio.open(\"output_data/imagery_trans_clip.tif\", \"w\", **out_meta) as dest:\n",
    "    dest.write(out_image)\n"
   ]
  },
  {
   "cell_type": "code",
   "execution_count": null,
   "id": "fd80d298-28dd-4a76-a85b-50b0aff89d5b",
   "metadata": {},
   "outputs": [],
   "source": [
    "with rasterio.open(\n",
    "                dir_out, \"w\",\n",
    "                driver = \"GTiff\",\n",
    "                transform = raster.transform,\n",
    "                dtype = rasterio.uint8,\n",
    "                count = 1,\n",
    "                width = raster.width,\n",
    "                height = raster.height) as dst:\n",
    "            dst.write(rasterized, indexes = 1)"
   ]
  }
 ],
 "metadata": {
  "kernelspec": {
   "display_name": "planet_project",
   "language": "python",
   "name": "planet_project"
  },
  "language_info": {
   "codemirror_mode": {
    "name": "ipython",
    "version": 3
   },
   "file_extension": ".py",
   "mimetype": "text/x-python",
   "name": "python",
   "nbconvert_exporter": "python",
   "pygments_lexer": "ipython3",
   "version": "3.8.10"
  }
 },
 "nbformat": 4,
 "nbformat_minor": 5
}
